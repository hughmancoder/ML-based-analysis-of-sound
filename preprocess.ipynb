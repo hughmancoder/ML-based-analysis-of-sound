{
 "cells": [
  {
   "cell_type": "markdown",
   "id": "f067ae53",
   "metadata": {},
   "source": [
    "# Preprocessing Pipeline\n",
    "\n",
    "This notebook collects the preprocessing commands used to build IRMAS and Chinese instrument datasets.\n",
    "Each section mirrors a Makefile target so you can run them interactively.\n"
   ]
  },
  {
   "cell_type": "markdown",
   "id": "1df3c57c",
   "metadata": {},
   "source": [
    "## Setup\n",
    "\n",
    "Define shared paths and a helper `run` function so later cells stay concise.\n"
   ]
  },
  {
   "cell_type": "code",
   "execution_count": 1,
   "id": "ba18f547",
   "metadata": {},
   "outputs": [],
   "source": [
    "from __future__ import annotations\n",
    "\n",
    "from pathlib import Path\n",
    "from typing import Sequence\n",
    "import os\n",
    "import subprocess\n",
    "\n",
    "PROJECT_ROOT = Path.cwd()\n",
    "\n",
    "DATA_DIR = PROJECT_ROOT / \"data\"\n",
    "IRMAS_TRAIN_DIR = DATA_DIR / \"audio\" / \"IRMAS\" / \"IRMAS-TrainingData\"\n",
    "IRMAS_TEST_DIR = DATA_DIR / \"audio\" / \"IRMAS\" / \"IRMAS-TestingData-Part1\"\n",
    "CHN_DIR = DATA_DIR / \"audio\" / \"chinese_instruments\"\n",
    "CHN_SOURCES_DIR = CHN_DIR / \"sources\"\n",
    "\n",
    "CACHE_DIR = PROJECT_ROOT / \".cache\"\n",
    "IRMAS_MELS_DIR = CACHE_DIR / \"mels\" / \"irmas\"\n",
    "IRMAS_TEST_MELS_DIR = IRMAS_MELS_DIR / \"test\"\n",
    "\n",
    "MANIFEST_DIR = DATA_DIR / \"manifests\"\n",
    "IRMAS_TRAIN_MANIFEST = MANIFEST_DIR / \"irmas_train.csv\"\n",
    "IRMAS_TRAIN_MELS_CSV = MANIFEST_DIR / \"irmas_train_mels.csv\"\n",
    "IRMAS_TEST_MELS_CSV = MANIFEST_DIR / \"irmas_test_mels.csv\"\n",
    "\n",
    "SR = 44100\n",
    "DUR = 3.0\n",
    "N_MELS = 128\n",
    "WIN_MS = 30.0\n",
    "HOP_MS = 10.0\n",
    "STRIDE_S = 3\n",
    "\n",
    "ENV = dict(os.environ)\n",
    "ENV[\"PYTHONPATH\"] = str(PROJECT_ROOT / \"src\")\n",
    "\n",
    "def run(cmd: Sequence[str]) -> None:\n",
    "    \"\"\"Execute a command with the project PYTHONPATH set.\"\"\"\n",
    "    print(\"Running:\", \" \".join(str(item) for item in cmd))\n",
    "    subprocess.run(cmd, check=True, cwd=PROJECT_ROOT, env=ENV)\n"
   ]
  },
  {
   "cell_type": "markdown",
   "id": "fee98312",
   "metadata": {},
   "source": [
    "## Generate Train Manifests\n",
    "\n",
    "Rebuild the manifest CSVs that list training audio files for IRMAS and Chinese instruments.\n"
   ]
  },
  {
   "cell_type": "code",
   "execution_count": 2,
   "id": "ad9829e8",
   "metadata": {},
   "outputs": [
    {
     "name": "stdout",
     "output_type": "stream",
     "text": [
      "Running: python -m scripts.generate_train_manifests --irmas_dir e:\\qingchaolaopian\\Instrument Sound\\Github\\ML-based-analysis-of-sound\\data\\audio\\IRMAS\\IRMAS-TrainingData --chinese_dir e:\\qingchaolaopian\\Instrument Sound\\Github\\ML-based-analysis-of-sound\\data\\audio\\chinese_instruments --out_dir e:\\qingchaolaopian\\Instrument Sound\\Github\\ML-based-analysis-of-sound\\data\\manifests\n"
     ]
    }
   ],
   "source": [
    "run([\n",
    "    \"python\",\n",
    "    \"-m\",\n",
    "    \"scripts.generate_train_manifests\",\n",
    "    \"--irmas_dir\",\n",
    "    str(IRMAS_TRAIN_DIR),\n",
    "    \"--chinese_dir\",\n",
    "    str(CHN_DIR),\n",
    "    \"--out_dir\",\n",
    "    str(MANIFEST_DIR),\n",
    "])\n"
   ]
  },
  {
   "cell_type": "markdown",
   "id": "4e4eebc2",
   "metadata": {},
   "source": [
    "## Generate IRMAS Train Mel Cache\n",
    "\n",
    "Create or refresh the mel-spectrogram cache and manifest used for training.\n"
   ]
  },
  {
   "cell_type": "code",
   "execution_count": 3,
   "id": "bcb28132",
   "metadata": {},
   "outputs": [
    {
     "name": "stdout",
     "output_type": "stream",
     "text": [
      "Running: python -m scripts.generate_irmas_train_mels --irmas_train_dir e:\\qingchaolaopian\\Instrument Sound\\Github\\ML-based-analysis-of-sound\\data\\audio\\IRMAS\\IRMAS-TrainingData --cache_root e:\\qingchaolaopian\\Instrument Sound\\Github\\ML-based-analysis-of-sound\\.cache\\mels\\irmas\\train --mel_manifest_out e:\\qingchaolaopian\\Instrument Sound\\Github\\ML-based-analysis-of-sound\\data\\manifests\\irmas_train_mels.csv --sr 44100 --dur 3.0 --n_mels 128 --win_ms 30.0 --hop_ms 10.0\n"
     ]
    }
   ],
   "source": [
    "run([\n",
    "    \"python\",\n",
    "    \"-m\",\n",
    "    \"scripts.generate_irmas_train_mels\",\n",
    "    \"--irmas_train_dir\",\n",
    "    str(IRMAS_TRAIN_DIR),\n",
    "    \"--cache_root\",\n",
    "    str(IRMAS_MELS_DIR / \"train\"),\n",
    "    \"--mel_manifest_out\",\n",
    "    str(IRMAS_TRAIN_MELS_CSV),\n",
    "    \"--sr\",\n",
    "    str(SR),\n",
    "    \"--dur\",\n",
    "    str(DUR),\n",
    "    \"--n_mels\",\n",
    "    str(N_MELS),\n",
    "    \"--win_ms\",\n",
    "    str(WIN_MS),\n",
    "    \"--hop_ms\",\n",
    "    str(HOP_MS),\n",
    "])\n"
   ]
  },
  {
   "cell_type": "markdown",
   "id": "dcadd405",
   "metadata": {},
   "source": [
    "## Generate IRMAS Test Windows\n",
    "\n",
    "Produce sliding-window mel spectrograms and manifest for the IRMAS test set.\n"
   ]
  },
  {
   "cell_type": "code",
   "execution_count": 4,
   "id": "8ba31b22",
   "metadata": {},
   "outputs": [
    {
     "name": "stdout",
     "output_type": "stream",
     "text": [
      "Running: python -m scripts.generate_irmas_test_mels --irmas_test_dir e:\\qingchaolaopian\\Instrument Sound\\Github\\ML-based-analysis-of-sound\\data\\audio\\IRMAS\\IRMAS-TestingData-Part1 --cache_root e:\\qingchaolaopian\\Instrument Sound\\Github\\ML-based-analysis-of-sound\\.cache\\mels\\irmas\\test --mel_manifest_out e:\\qingchaolaopian\\Instrument Sound\\Github\\ML-based-analysis-of-sound\\data\\manifests\\irmas_test_mels.csv --sr 44100 --dur 3.0 --n_mels 128 --win_ms 30.0 --hop_ms 10.0 --stride_s 3\n"
     ]
    }
   ],
   "source": [
    "run([\n",
    "    \"python\",\n",
    "    \"-m\",\n",
    "    \"scripts.generate_irmas_test_mels\",\n",
    "    \"--irmas_test_dir\",\n",
    "    str(IRMAS_TEST_DIR),\n",
    "    \"--cache_root\",\n",
    "    str(IRMAS_TEST_MELS_DIR),\n",
    "    \"--mel_manifest_out\",\n",
    "    str(IRMAS_TEST_MELS_CSV),\n",
    "    \"--sr\",\n",
    "    str(SR),\n",
    "    \"--dur\",\n",
    "    str(DUR),\n",
    "    \"--n_mels\",\n",
    "    str(N_MELS),\n",
    "    \"--win_ms\",\n",
    "    str(WIN_MS),\n",
    "    \"--hop_ms\",\n",
    "    str(HOP_MS),\n",
    "    \"--stride_s\",\n",
    "    str(STRIDE_S),\n",
    "])\n"
   ]
  },
  {
   "cell_type": "markdown",
   "id": "7f2de81c",
   "metadata": {},
   "source": [
    "## Build Chinese Instrument Datasets\n",
    "\n",
    "Generate audio datasets for each Chinese instrument based on the source JSON manifests.\n"
   ]
  },
  {
   "cell_type": "code",
   "execution_count": 5,
   "id": "7c5f386d",
   "metadata": {},
   "outputs": [
    {
     "name": "stdout",
     "output_type": "stream",
     "text": [
      "\n",
      "[percussion]\n",
      "Running: python -m scripts.generate_data_from_json --input e:\\qingchaolaopian\\Instrument Sound\\Github\\ML-based-analysis-of-sound\\data\\audio\\chinese_instruments\\sources\\percussion.json\n",
      "\n",
      "[dizi]\n",
      "Running: python -m scripts.generate_data_from_json --input e:\\qingchaolaopian\\Instrument Sound\\Github\\ML-based-analysis-of-sound\\data\\audio\\chinese_instruments\\sources\\dizi.json\n",
      "\n",
      "[guzheng]\n",
      "Running: python -m scripts.generate_data_from_json --input e:\\qingchaolaopian\\Instrument Sound\\Github\\ML-based-analysis-of-sound\\data\\audio\\chinese_instruments\\sources\\guzheng.json\n",
      "\n",
      "[suona]\n",
      "Running: python -m scripts.generate_data_from_json --input e:\\qingchaolaopian\\Instrument Sound\\Github\\ML-based-analysis-of-sound\\data\\audio\\chinese_instruments\\sources\\suona.json\n"
     ]
    }
   ],
   "source": [
    "CHINESE_JSON_SOURCES = [\n",
    "    (\"percussion\", CHN_SOURCES_DIR / \"percussion.json\"),\n",
    "    (\"dizi\", CHN_SOURCES_DIR / \"dizi.json\"),\n",
    "    (\"guzheng\", CHN_SOURCES_DIR / \"guzheng.json\"),\n",
    "    (\"suona\", CHN_SOURCES_DIR / \"suona.json\"),\n",
    "]\n",
    "\n",
    "for instrument, json_path in CHINESE_JSON_SOURCES:\n",
    "    print(f\"\\n[{instrument}]\")\n",
    "    run([\n",
    "        \"python\",\n",
    "        \"-m\",\n",
    "        \"scripts.generate_data_from_json\",\n",
    "        \"--input\",\n",
    "        str(json_path),\n",
    "    ])\n"
   ]
  },
  {
   "cell_type": "markdown",
   "id": "265163c3",
   "metadata": {},
   "source": [
    "## Summaries\n",
    "\n",
    "Update dataset statistics to inspect the generated audio directories.\n"
   ]
  },
  {
   "cell_type": "code",
   "execution_count": 6,
   "id": "11ae9268",
   "metadata": {},
   "outputs": [
    {
     "name": "stdout",
     "output_type": "stream",
     "text": [
      "Running: python -m scripts.summarise_data --root e:\\qingchaolaopian\\Instrument Sound\\Github\\ML-based-analysis-of-sound\\data\\audio\\chinese_instruments\n",
      "Running: python -m scripts.summarise_data --root e:\\qingchaolaopian\\Instrument Sound\\Github\\ML-based-analysis-of-sound\\data\\audio\\IRMAS\\IRMAS-TrainingData\n"
     ]
    }
   ],
   "source": [
    "run([\n",
    "    \"python\",\n",
    "    \"-m\",\n",
    "    \"scripts.summarise_data\",\n",
    "    \"--root\",\n",
    "    str(CHN_DIR),\n",
    "])\n",
    "\n",
    "run([\n",
    "    \"python\",\n",
    "    \"-m\",\n",
    "    \"scripts.summarise_data\",\n",
    "    \"--root\",\n",
    "    str(IRMAS_TRAIN_DIR),\n",
    "])\n"
   ]
  },
  {
   "cell_type": "markdown",
   "id": "ab884904",
   "metadata": {},
   "source": [
    "## Clean Cache (Optional)\n",
    "\n",
    "Removing cached mel data is destructive. Uncomment the commands below if you need to start over.\n"
   ]
  },
  {
   "cell_type": "code",
   "execution_count": 7,
   "id": "56675d86",
   "metadata": {},
   "outputs": [],
   "source": [
    "# run([\"rm\", \"-rf\", str(CACHE_DIR / \"mels\")])\n",
    "# run([\"rm\", \"-rf\", str(CACHE_DIR / \"mels_chinese\")])\n",
    "# run([\"rm\", \"-rf\", str(CACHE_DIR / \"canonical\")])\n",
    "# run([\"rm\", \"-rf\", str(CACHE_DIR / \"video_tmp\")])\n"
   ]
  }
 ],
 "metadata": {
  "kernelspec": {
   "display_name": "Python 3",
   "language": "python",
   "name": "python3"
  },
  "language_info": {
   "codemirror_mode": {
    "name": "ipython",
    "version": 3
   },
   "file_extension": ".py",
   "mimetype": "text/x-python",
   "name": "python",
   "nbconvert_exporter": "python",
   "pygments_lexer": "ipython3",
   "version": "3.11.9"
  }
 },
 "nbformat": 4,
 "nbformat_minor": 5
}
